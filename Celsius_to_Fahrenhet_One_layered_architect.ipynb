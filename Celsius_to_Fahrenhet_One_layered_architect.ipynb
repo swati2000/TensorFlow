{
  "nbformat": 4,
  "nbformat_minor": 0,
  "metadata": {
    "colab": {
      "name": "Celsius to Fahrenhet One layered architect.ipynb",
      "provenance": [],
      "collapsed_sections": [],
      "authorship_tag": "ABX9TyM5ZZ0p+gYme3Ol+vt2gUb+",
      "include_colab_link": true
    },
    "kernelspec": {
      "name": "python3",
      "display_name": "Python 3"
    },
    "accelerator": "GPU"
  },
  "cells": [
    {
      "cell_type": "markdown",
      "metadata": {
        "id": "view-in-github",
        "colab_type": "text"
      },
      "source": [
        "<a href=\"https://colab.research.google.com/github/swati2000/TensorFlow/blob/master/Celsius_to_Fahrenhet_One_layered_architect.ipynb\" target=\"_parent\"><img src=\"https://colab.research.google.com/assets/colab-badge.svg\" alt=\"Open In Colab\"/></a>"
      ]
    },
    {
      "cell_type": "code",
      "metadata": {
        "id": "y4g9TJcygToK",
        "colab_type": "code",
        "colab": {
          "base_uri": "https://localhost:8080/",
          "height": 64
        },
        "outputId": "0a54abe3-2907-4df4-897f-393d65b06322"
      },
      "source": [
        "import numpy as np\n",
        "import matplotlib.pyplot as plt\n",
        "import tensorflow as tf\n",
        "tf.logging.set_verbosity(tf.logging.ERROR)"
      ],
      "execution_count": 1,
      "outputs": [
        {
          "output_type": "display_data",
          "data": {
            "text/html": [
              "<p style=\"color: red;\">\n",
              "The default version of TensorFlow in Colab will soon switch to TensorFlow 2.x.<br>\n",
              "We recommend you <a href=\"https://www.tensorflow.org/guide/migrate\" target=\"_blank\">upgrade</a> now \n",
              "or ensure your notebook will continue to use TensorFlow 1.x via the <code>%tensorflow_version 1.x</code> magic:\n",
              "<a href=\"https://colab.research.google.com/notebooks/tensorflow_version.ipynb\" target=\"_blank\">more info</a>.</p>\n"
            ],
            "text/plain": [
              "<IPython.core.display.HTML object>"
            ]
          },
          "metadata": {
            "tags": []
          }
        }
      ]
    },
    {
      "cell_type": "code",
      "metadata": {
        "id": "CTnx-to3iOa6",
        "colab_type": "code",
        "colab": {
          "base_uri": "https://localhost:8080/",
          "height": 143
        },
        "outputId": "2846a214-3fc0-4e0b-e04e-e6b4ca9e1dfa"
      },
      "source": [
        "cel = np.array([-40, -10, 0, 8, 15, 22, 38], dtype = float)\n",
        "fah = np.array([-40, 14, 32, 46, 59, 72, 100], dtype = float)\n",
        "\n",
        "for i,c in enumerate(cel):\n",
        "  print(\"{} Degree Celsius = {} Degree Fahrenhet\".format(c,fah[i]))"
      ],
      "execution_count": 2,
      "outputs": [
        {
          "output_type": "stream",
          "text": [
            "-40.0 Degree Celsius = -40.0 Degree Fahrenhet\n",
            "-10.0 Degree Celsius = 14.0 Degree Fahrenhet\n",
            "0.0 Degree Celsius = 32.0 Degree Fahrenhet\n",
            "8.0 Degree Celsius = 46.0 Degree Fahrenhet\n",
            "15.0 Degree Celsius = 59.0 Degree Fahrenhet\n",
            "22.0 Degree Celsius = 72.0 Degree Fahrenhet\n",
            "38.0 Degree Celsius = 100.0 Degree Fahrenhet\n"
          ],
          "name": "stdout"
        }
      ]
    },
    {
      "cell_type": "code",
      "metadata": {
        "id": "a6reeI4jlS_b",
        "colab_type": "code",
        "colab": {
          "base_uri": "https://localhost:8080/",
          "height": 35
        },
        "outputId": "7fe4c6ad-6c11-44ca-d545-272dca7dab05"
      },
      "source": [
        "l0 = tf.keras.layers.Dense(units=1, input_shape=[1] )\n",
        "model = tf.keras.Sequential([l0])\n",
        "\n",
        "'''or     model = tf.keras.Sequential([tf.keras.layers.Dense(units=1, input_shape=[1] )]) '''"
      ],
      "execution_count": 3,
      "outputs": [
        {
          "output_type": "execute_result",
          "data": {
            "text/plain": [
              "'or     model = tf.keras.Sequential([tf.keras.layers.Dense(units=1, input_shape=[1] )]) '"
            ]
          },
          "metadata": {
            "tags": []
          },
          "execution_count": 3
        }
      ]
    },
    {
      "cell_type": "code",
      "metadata": {
        "id": "mKZgliXgo_hp",
        "colab_type": "code",
        "colab": {}
      },
      "source": [
        "model.compile(loss='mean_squared_error', optimizer=tf.keras.optimizers.Adam(0.1))"
      ],
      "execution_count": 0,
      "outputs": []
    },
    {
      "cell_type": "code",
      "metadata": {
        "id": "RdImRfbEqFNP",
        "colab_type": "code",
        "colab": {
          "base_uri": "https://localhost:8080/",
          "height": 35
        },
        "outputId": "3752449d-6f59-417d-8e03-d45fb88e4931"
      },
      "source": [
        "history = model.fit(cel, fah, epochs=500, verbose=False)\n",
        "print(\"Finished training the model\")"
      ],
      "execution_count": 8,
      "outputs": [
        {
          "output_type": "stream",
          "text": [
            "Finished training the model\n"
          ],
          "name": "stdout"
        }
      ]
    },
    {
      "cell_type": "code",
      "metadata": {
        "id": "ipCR-BKXrjcO",
        "colab_type": "code",
        "colab": {
          "base_uri": "https://localhost:8080/",
          "height": 297
        },
        "outputId": "a5c5ba98-c29d-45a3-a2c5-92f2b5ffcb87"
      },
      "source": [
        "plt.xlabel('Epoch Number')\n",
        "plt.ylabel('Magnitude Loss')\n",
        "plt.plot(history.history['loss'])"
      ],
      "execution_count": 9,
      "outputs": [
        {
          "output_type": "execute_result",
          "data": {
            "text/plain": [
              "[<matplotlib.lines.Line2D at 0x7fe30c5277b8>]"
            ]
          },
          "metadata": {
            "tags": []
          },
          "execution_count": 9
        },
        {
          "output_type": "display_data",
          "data": {
            "image/png": "[encoded data removed]",
            "text/plain": [
              "<Figure size 432x288 with 1 Axes>"
            ]
          },
          "metadata": {
            "tags": []
          }
        }
      ]
    },
    {
      "cell_type": "code",
      "metadata": {
        "id": "TtW4UBhMs0Lq",
        "colab_type": "code",
        "colab": {
          "base_uri": "https://localhost:8080/",
          "height": 35
        },
        "outputId": "ba10765d-c2f3-49dc-ce4d-38f24388fc59"
      },
      "source": [
        "print(model.predict([100.0]))"
      ],
      "execution_count": 10,
      "outputs": [
        {
          "output_type": "stream",
          "text": [
            "[[211.74338]]\n"
          ],
          "name": "stdout"
        }
      ]
    },
    {
      "cell_type": "code",
      "metadata": {
        "id": "0dhbknG7tKhm",
        "colab_type": "code",
        "colab": {
          "base_uri": "https://localhost:8080/",
          "height": 35
        },
        "outputId": "1f2dba7e-fe99-48a7-a2c1-bbe12e6ffa62"
      },
      "source": [
        "print(\"These are the layer variables : {}\".format(l0.get_weights()))"
      ],
      "execution_count": 13,
      "outputs": [
        {
          "output_type": "stream",
          "text": [
            "These are the layer variables : [array([[1.7981826]], dtype=float32), array([31.925112], dtype=float32)]\n"
          ],
          "name": "stdout"
        }
      ]
    }
  ]
}