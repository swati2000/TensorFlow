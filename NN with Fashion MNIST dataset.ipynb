{
  "nbformat": 4,
  "nbformat_minor": 0,
  "metadata": {
    "colab": {
      "name": "Untitled0.ipynb",
      "provenance": [],
      "collapsed_sections": [],
      "include_colab_link": true
    },
    "kernelspec": {
      "name": "python3",
      "display_name": "Python 3"
    },
    "accelerator": "GPU"
  },
  "cells": [
    {
      "cell_type": "markdown",
      "metadata": {
        "id": "view-in-github",
        "colab_type": "text"
      },
      "source": [
        "<a href=\"https://colab.research.google.com/github/swati2000/TensorFlow/blob/master/NN%20with%20Fashion%20MNISTcdataset.ipynb\" target=\"_parent\"><img src=\"https://colab.research.google.com/assets/colab-badge.svg\" alt=\"Open In Colab\"/></a>"
      ]
    },
    {
      "cell_type": "code",
      "metadata": {
        "id": "Zc7iuCx7mcZH",
        "colab_type": "code",
        "outputId": "0d0fdf15-f2e3-419a-e51c-421e9652577d",
        "colab": {
          "base_uri": "https://localhost:8080/",
          "height": 64
        }
      },
      "source": [
        "#Import Tensorflow\n",
        "import tensorflow as tf\n",
        "\n",
        "#This will go away n future\n",
        "#It will generate error if you are using Tensorflow 2 or above\n",
        "#If so then just comment out this line and run the cell again\n",
        "tf.enable_eager_execution()"
      ],
      "execution_count": 1,
      "outputs": [
        {
          "output_type": "display_data",
          "data": {
            "text/html": [
              "<p style=\"color: red;\">\n",
              "The default version of TensorFlow in Colab will soon switch to TensorFlow 2.x.<br>\n",
              "We recommend you <a href=\"https://www.tensorflow.org/guide/migrate\" target=\"_blank\">upgrade</a> now \n",
              "or ensure your notebook will continue to use TensorFlow 1.x via the <code>%tensorflow_version 1.x</code> magic:\n",
              "<a href=\"https://colab.research.google.com/notebooks/tensorflow_version.ipynb\" target=\"_blank\">more info</a>.</p>\n"
            ],
            "text/plain": [
              "<IPython.core.display.HTML object>"
            ]
          },
          "metadata": {
            "tags": []
          }
        }
      ]
    },
    {
      "cell_type": "code",
      "metadata": {
        "id": "3rnk9gmRmw5F",
        "colab_type": "code",
        "outputId": "2271586e-ceaa-4ebc-9623-3080f10f8fc7",
        "colab": {
          "base_uri": "https://localhost:8080/",
          "height": 35
        }
      },
      "source": [
        "from __future__ import absolute_import, division, print_function\n",
        "\n",
        "#import Tensorflow datasets\n",
        "import tensorflow_datasets as tfds\n",
        "tf.logging.set_verbosity(tf.logging.ERROR)\n",
        "\n",
        "#Helper libraries\n",
        "import math\n",
        "import numpy as np\n",
        "import matplotlib.pyplot as plt\n",
        "\n",
        "#Improve Progress bar display\n",
        "import tqdm\n",
        "import tqdm.auto\n",
        "tqdm.tqdm = tqdm.auto.tqdm\n",
        "\n",
        "print(tf.__version__)"
      ],
      "execution_count": 2,
      "outputs": [
        {
          "output_type": "stream",
          "text": [
            "1.15.0\n"
          ],
          "name": "stdout"
        }
      ]
    },
    {
      "cell_type": "code",
      "metadata": {
        "id": "CPqgptbom2Le",
        "colab_type": "code",
        "outputId": "856f6b3b-dcf6-4bcf-9bef-8fbd43dc0b77",
        "colab": {
          "base_uri": "https://localhost:8080/",
          "height": 396
        }
      },
      "source": [
        "!pip install -U tensorflow_datasets"
      ],
      "execution_count": 3,
      "outputs": [
        {
          "output_type": "stream",
          "text": [
            "Requirement already up-to-date: tensorflow_datasets in /usr/local/lib/python3.6/dist-packages (2.0.0)\n",
            "Requirement already satisfied, skipping upgrade: requests>=2.19.0 in /usr/local/lib/python3.6/dist-packages (from tensorflow_datasets) (2.21.0)\n",
            "Requirement already satisfied, skipping upgrade: absl-py in /usr/local/lib/python3.6/dist-packages (from tensorflow_datasets) (0.9.0)\n",
            "Requirement already satisfied, skipping upgrade: six in /usr/local/lib/python3.6/dist-packages (from tensorflow_datasets) (1.12.0)\n",
            "Requirement already satisfied, skipping upgrade: future in /usr/local/lib/python3.6/dist-packages (from tensorflow_datasets) (0.16.0)\n",
            "Requirement already satisfied, skipping upgrade: promise in /usr/local/lib/python3.6/dist-packages (from tensorflow_datasets) (2.3)\n",
            "Requirement already satisfied, skipping upgrade: termcolor in /usr/local/lib/python3.6/dist-packages (from tensorflow_datasets) (1.1.0)\n",
            "Requirement already satisfied, skipping upgrade: tensorflow-metadata in /usr/local/lib/python3.6/dist-packages (from tensorflow_datasets) (0.21.1)\n",
            "Requirement already satisfied, skipping upgrade: dill in /usr/local/lib/python3.6/dist-packages (from tensorflow_datasets) (0.3.1.1)\n",
            "Requirement already satisfied, skipping upgrade: attrs>=18.1.0 in /usr/local/lib/python3.6/dist-packages (from tensorflow_datasets) (19.3.0)\n",
            "Requirement already satisfied, skipping upgrade: tqdm in /usr/local/lib/python3.6/dist-packages (from tensorflow_datasets) (4.28.1)\n",
            "Requirement already satisfied, skipping upgrade: numpy in /usr/local/lib/python3.6/dist-packages (from tensorflow_datasets) (1.17.5)\n",
            "Requirement already satisfied, skipping upgrade: wrapt in /usr/local/lib/python3.6/dist-packages (from tensorflow_datasets) (1.11.2)\n",
            "Requirement already satisfied, skipping upgrade: protobuf>=3.6.1 in /usr/local/lib/python3.6/dist-packages (from tensorflow_datasets) (3.10.0)\n",
            "Requirement already satisfied, skipping upgrade: urllib3<1.25,>=1.21.1 in /usr/local/lib/python3.6/dist-packages (from requests>=2.19.0->tensorflow_datasets) (1.24.3)\n",
            "Requirement already satisfied, skipping upgrade: chardet<3.1.0,>=3.0.2 in /usr/local/lib/python3.6/dist-packages (from requests>=2.19.0->tensorflow_datasets) (3.0.4)\n",
            "Requirement already satisfied, skipping upgrade: idna<2.9,>=2.5 in /usr/local/lib/python3.6/dist-packages (from requests>=2.19.0->tensorflow_datasets) (2.8)\n",
            "Requirement already satisfied, skipping upgrade: certifi>=2017.4.17 in /usr/local/lib/python3.6/dist-packages (from requests>=2.19.0->tensorflow_datasets) (2019.11.28)\n",
            "Requirement already satisfied, skipping upgrade: googleapis-common-protos in /usr/local/lib/python3.6/dist-packages (from tensorflow-metadata->tensorflow_datasets) (1.51.0)\n",
            "Requirement already satisfied, skipping upgrade: setuptools in /usr/local/lib/python3.6/dist-packages (from protobuf>=3.6.1->tensorflow_datasets) (45.1.0)\n"
          ],
          "name": "stdout"
        }
      ]
    },
    {
      "cell_type": "code",
      "metadata": {
        "id": "ha8bJjfmm6cf",
        "colab_type": "code",
        "colab": {}
      },
      "source": [
        "#Load the Fashion MNIST dataset\n",
        "dataset,metadata = tfds.load('fashion_mnist', as_supervised=True, with_info=True)\n",
        "train_dataset, test_dataset = dataset['train'], dataset['test']"
      ],
      "execution_count": 0,
      "outputs": []
    },
    {
      "cell_type": "code",
      "metadata": {
        "id": "kHXIJtmdnnHY",
        "colab_type": "code",
        "colab": {}
      },
      "source": [
        "#Define the classes\n",
        "class_name = ['T-shirt/top', 'Trouser', 'Pullover', 'Dress', 'Coat',\n",
        "              'Sandal', 'Shirt', 'Sneaker', 'Bag', 'Ankle boot']"
      ],
      "execution_count": 0,
      "outputs": []
    },
    {
      "cell_type": "code",
      "metadata": {
        "id": "k-1y1nPanuN2",
        "colab_type": "code",
        "outputId": "088b68db-bf8a-4d65-b2d3-0f1a17840ba5",
        "colab": {
          "base_uri": "https://localhost:8080/",
          "height": 53
        }
      },
      "source": [
        "#Split the Training dataset and Testing Dataset\n",
        "num_train_examples = metadata.splits['train'].num_examples\n",
        "num_test_examples = metadata.splits['test'].num_examples\n",
        "print('Number of Training examples : {}'.format(num_train_examples))\n",
        "print('Number of Testing examples : {}'.format(num_test_examples))"
      ],
      "execution_count": 6,
      "outputs": [
        {
          "output_type": "stream",
          "text": [
            "Number of Training examples : 60000\n",
            "Number of Testing examples : 10000\n"
          ],
          "name": "stdout"
        }
      ]
    },
    {
      "cell_type": "code",
      "metadata": {
        "id": "h-Os8XtHnv_s",
        "colab_type": "code",
        "colab": {}
      },
      "source": [
        "def normalize(images, labels):\n",
        "  images = tf.cast(images, tf.float32)\n",
        "  images /=255\n",
        "  return (images, labels)\n",
        "\n",
        "#the map function applies the normalize function to each element in the train and test dadaset\n",
        "train_dataset = train_dataset.map(normalize)\n",
        "test_dataset = test_dataset.map(normalize)"
      ],
      "execution_count": 0,
      "outputs": []
    },
    {
      "cell_type": "code",
      "metadata": {
        "id": "ckWT4vetnzfU",
        "colab_type": "code",
        "outputId": "0f17987d-bc8e-4437-8892-d1e4e884e10d",
        "colab": {
          "base_uri": "https://localhost:8080/",
          "height": 269
        }
      },
      "source": [
        "#take a single image, and remove color dimension by reshaping\n",
        "for image, label in test_dataset.take(1):\n",
        "  break\n",
        "image = image.numpy().reshape((28,28))\n",
        "\n",
        "#plot the image-voila a piece of fashion clothing\n",
        "plt.figure()\n",
        "plt.imshow(image, cmap=plt.cm.binary)\n",
        "plt.colorbar()\n",
        "plt.grid(False)\n",
        "plt.show()\n"
      ],
      "execution_count": 8,
      "outputs": [
        {
          "output_type": "display_data",
          "data": {
            "image/png": "[encoded data removed]",
            "text/plain": [
              "<Figure size 432x288 with 2 Axes>"
            ]
          },
          "metadata": {
            "tags": []
          }
        }
      ]
    },
    {
      "cell_type": "code",
      "metadata": {
        "id": "7k0MlJfMoyk4",
        "colab_type": "code",
        "outputId": "8ba19d92-a08f-49e5-c0d5-d9d13b8ccaea",
        "colab": {
          "base_uri": "https://localhost:8080/",
          "height": 589
        }
      },
      "source": [
        "#Plotting the first 25 images\n",
        "plt.figure(figsize=(10,10))\n",
        "i=0\n",
        "for (image,label) in test_dataset.take(25):\n",
        "  image = image.numpy().reshape((28,28))\n",
        "  plt.subplot(5,5,i+1)\n",
        "  plt.xticks([])\n",
        "  plt.yticks([])\n",
        "  plt.grid(False)\n",
        "  plt.imshow(image, cmap = plt.cm.binary)\n",
        "  plt.xlabel(class_name[label])\n",
        "  i += 1\n",
        "plt.show()"
      ],
      "execution_count": 9,
      "outputs": [
        {
          "output_type": "display_data",
          "data": {
            "image/png": "[encoded data removed]",
            "text/plain": [
              "<Figure size 720x720 with 25 Axes>"
            ]
          },
          "metadata": {
            "tags": []
          }
        }
      ]
    },
    {
      "cell_type": "code",
      "metadata": {
        "id": "KcGbR07Eq4xo",
        "colab_type": "code",
        "colab": {}
      },
      "source": [
        "#Define the model by choosing no. of layers and neurons in each layer\n",
        "model = tf.keras.Sequential([tf.keras.layers.Flatten(input_shape=(28, 28, 1)),\n",
        "                             tf.keras.layers.Dense(128, activation=tf.nn.relu),\n",
        "                             tf.keras.layers.Dense(64, activation=tf.nn.relu),\n",
        "                             tf.keras.layers.Dense(10, activation=tf.nn.softmax)\n",
        "                             ])"
      ],
      "execution_count": 0,
      "outputs": []
    },
    {
      "cell_type": "code",
      "metadata": {
        "id": "3QrnVg2Jrsgy",
        "colab_type": "code",
        "colab": {}
      },
      "source": [
        "#Compile the model by defining optimizer function(Adam) and loss function\n",
        "model.compile(optimizer='adam', loss='sparse_categorical_crossentropy', metrics=['accuracy'])"
      ],
      "execution_count": 0,
      "outputs": []
    },
    {
      "cell_type": "code",
      "metadata": {
        "id": "exSMhAvSsiD_",
        "colab_type": "code",
        "colab": {}
      },
      "source": [
        "BATCH_SIZE = 32\n",
        "train_dataset = train_dataset.repeat().shuffle(num_train_examples).batch(BATCH_SIZE)\n",
        "test_dataset = test_dataset.batch(BATCH_SIZE)"
      ],
      "execution_count": 0,
      "outputs": []
    },
    {
      "cell_type": "code",
      "metadata": {
        "id": "gMTWlxBvtUSC",
        "colab_type": "code",
        "outputId": "716d5f0a-c806-40b6-d1b6-6e26b03fcfc2",
        "colab": {
          "base_uri": "https://localhost:8080/",
          "height": 771
        }
      },
      "source": [
        "model.fit(train_dataset, epochs=20, steps_per_epoch=math.ceil(num_train_examples/BATCH_SIZE))"
      ],
      "execution_count": 13,
      "outputs": [
        {
          "output_type": "stream",
          "text": [
            "Train for 1875 steps\n",
            "Epoch 1/20\n",
            "1875/1875 [==============================] - 47s 25ms/step - loss: 0.4850 - acc: 0.8250\n",
            "Epoch 2/20\n",
            "1875/1875 [==============================] - 20s 11ms/step - loss: 0.3688 - acc: 0.8649\n",
            "Epoch 3/20\n",
            "1875/1875 [==============================] - 22s 12ms/step - loss: 0.3294 - acc: 0.8802\n",
            "Epoch 4/20\n",
            "1875/1875 [==============================] - 21s 11ms/step - loss: 0.3048 - acc: 0.8874\n",
            "Epoch 5/20\n",
            "1875/1875 [==============================] - 20s 11ms/step - loss: 0.2931 - acc: 0.8900\n",
            "Epoch 6/20\n",
            "1875/1875 [==============================] - 24s 13ms/step - loss: 0.2729 - acc: 0.8981\n",
            "Epoch 7/20\n",
            "1875/1875 [==============================] - 21s 11ms/step - loss: 0.2628 - acc: 0.9030\n",
            "Epoch 8/20\n",
            "1875/1875 [==============================] - 21s 11ms/step - loss: 0.2547 - acc: 0.9040\n",
            "Epoch 9/20\n",
            "1875/1875 [==============================] - 26s 14ms/step - loss: 0.2469 - acc: 0.9081\n",
            "Epoch 10/20\n",
            "1875/1875 [==============================] - 21s 11ms/step - loss: 0.2355 - acc: 0.9119\n",
            "Epoch 11/20\n",
            "1875/1875 [==============================] - 21s 11ms/step - loss: 0.2243 - acc: 0.9148\n",
            "Epoch 12/20\n",
            "1875/1875 [==============================] - 20s 11ms/step - loss: 0.2206 - acc: 0.9157\n",
            "Epoch 13/20\n",
            "1875/1875 [==============================] - 21s 11ms/step - loss: 0.2098 - acc: 0.9198\n",
            "Epoch 14/20\n",
            "1875/1875 [==============================] - 21s 11ms/step - loss: 0.2037 - acc: 0.9216\n",
            "Epoch 15/20\n",
            "1875/1875 [==============================] - 21s 11ms/step - loss: 0.1984 - acc: 0.9244\n",
            "Epoch 16/20\n",
            "1875/1875 [==============================] - 20s 11ms/step - loss: 0.1952 - acc: 0.9260\n",
            "Epoch 17/20\n",
            "1875/1875 [==============================] - 22s 12ms/step - loss: 0.1916 - acc: 0.9274\n",
            "Epoch 18/20\n",
            "1875/1875 [==============================] - 21s 11ms/step - loss: 0.1818 - acc: 0.9316\n",
            "Epoch 19/20\n",
            "1875/1875 [==============================] - 20s 11ms/step - loss: 0.1774 - acc: 0.9320\n",
            "Epoch 20/20\n",
            "1875/1875 [==============================] - 23s 12ms/step - loss: 0.1734 - acc: 0.9343\n"
          ],
          "name": "stdout"
        },
        {
          "output_type": "execute_result",
          "data": {
            "text/plain": [
              "<tensorflow.python.keras.callbacks.History at 0x7f02b0dc6710>"
            ]
          },
          "metadata": {
            "tags": []
          },
          "execution_count": 13
        }
      ]
    },
    {
      "cell_type": "code",
      "metadata": {
        "id": "yiLQMMGFQPji",
        "colab_type": "code",
        "colab": {
          "base_uri": "https://localhost:8080/",
          "height": 35
        },
        "outputId": "309d2b95-2152-4f10-c156-ee21a0e31e78"
      },
      "source": [
        "#Evaluate accuracy\n",
        "test_loss, test_accuracy = model.evaluate(test_dataset, steps=math.ceil(num_train_examples/32))\n",
        "print('Accuracy on Test Dataset: ', test_accuracy)"
      ],
      "execution_count": 14,
      "outputs": [
        {
          "output_type": "stream",
          "text": [
            " 313/1875 [====>.........................] - ETA: 22s - loss: 0.3601 - acc: 0.8910Accuracy on Test Dataset:  0.891\n"
          ],
          "name": "stdout"
        }
      ]
    },
    {
      "cell_type": "code",
      "metadata": {
        "id": "hemr57BFSJkv",
        "colab_type": "code",
        "colab": {}
      },
      "source": [
        "#Prediction on Test Dataset\n",
        "for test_images, test_labels in test_dataset.take(1):\n",
        "  test_images = test_images.numpy()\n",
        "  test_labels = test_labels.numpy()\n",
        "  predictions = model.predict(test_images)"
      ],
      "execution_count": 0,
      "outputs": []
    },
    {
      "cell_type": "code",
      "metadata": {
        "id": "i8Nj8sZJSteh",
        "colab_type": "code",
        "colab": {
          "base_uri": "https://localhost:8080/",
          "height": 35
        },
        "outputId": "85861b8e-415d-460f-d434-7743105b0577"
      },
      "source": [
        "predictions.shape"
      ],
      "execution_count": 16,
      "outputs": [
        {
          "output_type": "execute_result",
          "data": {
            "text/plain": [
              "(32, 10)"
            ]
          },
          "metadata": {
            "tags": []
          },
          "execution_count": 16
        }
      ]
    },
    {
      "cell_type": "code",
      "metadata": {
        "id": "gLExwl54S10p",
        "colab_type": "code",
        "colab": {
          "base_uri": "https://localhost:8080/",
          "height": 71
        },
        "outputId": "7dcb2ee5-a2e3-4ef1-f73e-209e489e71a7"
      },
      "source": [
        "#Prediction for the first image\n",
        "predictions[0]"
      ],
      "execution_count": 17,
      "outputs": [
        {
          "output_type": "execute_result",
          "data": {
            "text/plain": [
              "array([3.7953945e-05, 1.2442358e-07, 1.0713666e-03, 1.2181629e-06,\n",
              "       9.9439502e-01, 1.4669176e-12, 4.4943737e-03, 2.0476351e-13,\n",
              "       1.1360347e-09, 3.5761233e-14], dtype=float32)"
            ]
          },
          "metadata": {
            "tags": []
          },
          "execution_count": 17
        }
      ]
    },
    {
      "cell_type": "code",
      "metadata": {
        "id": "-e1kQeiNTVaW",
        "colab_type": "code",
        "colab": {
          "base_uri": "https://localhost:8080/",
          "height": 35
        },
        "outputId": "6d3890de-ff9a-4375-97c5-828c1a44d82b"
      },
      "source": [
        "#argmax function on numpy to predict the largest index\n",
        "np.argmax(predictions[0])"
      ],
      "execution_count": 18,
      "outputs": [
        {
          "output_type": "execute_result",
          "data": {
            "text/plain": [
              "4"
            ]
          },
          "metadata": {
            "tags": []
          },
          "execution_count": 18
        }
      ]
    },
    {
      "cell_type": "code",
      "metadata": {
        "id": "lTYd4WklTzcS",
        "colab_type": "code",
        "colab": {
          "base_uri": "https://localhost:8080/",
          "height": 35
        },
        "outputId": "ffa36431-413c-4869-87b6-98acf69e2ce1"
      },
      "source": [
        "test_labels[0]"
      ],
      "execution_count": 19,
      "outputs": [
        {
          "output_type": "execute_result",
          "data": {
            "text/plain": [
              "4"
            ]
          },
          "metadata": {
            "tags": []
          },
          "execution_count": 19
        }
      ]
    }
  ]
}
